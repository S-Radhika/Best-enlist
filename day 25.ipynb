{
 "cells": [
  {
   "cell_type": "code",
   "execution_count": 1,
   "id": "53bfeb55",
   "metadata": {},
   "outputs": [
    {
     "name": "stdout",
     "output_type": "stream",
     "text": [
      "2021-07-09 18:55:00\n"
     ]
    }
   ],
   "source": [
    "\n",
    "## 1. Write a Python program to convert a string to datetime\n",
    "\n",
    "from datetime import datetime\n",
    "Date_In_String = datetime.strptime('Jul 9 2021 6:55PM', '%b %d %Y %I:%M%p')\n",
    "print(Date_In_String)"
   ]
  },
  {
   "cell_type": "code",
   "execution_count": 2,
   "id": "cf51d5f8",
   "metadata": {},
   "outputs": [
    {
     "name": "stdout",
     "output_type": "stream",
     "text": [
      "Current Date : 2021-07-12\n",
      "5 days before Current Date : 2021-07-07\n"
     ]
    }
   ],
   "source": [
    "## 2. Write a Python program to subtract five days (last working day) from current date\n",
    "\n",
    "from datetime import date, timedelta\n",
    "dt = date.today() - timedelta(5)\n",
    "print('Current Date :',date.today())\n",
    "print('5 days before Current Date :',dt)"
   ]
  },
  {
   "cell_type": "code",
   "execution_count": 3,
   "id": "0ede684d",
   "metadata": {},
   "outputs": [
    {
     "name": "stdout",
     "output_type": "stream",
     "text": [
      "2021-07-12 00:00:00\n"
     ]
    }
   ],
   "source": [
    "## 3. Write a Python program to convert the date to datetime using a function\n",
    "\n",
    "from datetime import date\n",
    "from datetime import datetime\n",
    "dt = date.today()\n",
    "print(datetime.combine(dt, datetime.min.time()))"
   ]
  },
  {
   "cell_type": "code",
   "execution_count": 4,
   "id": "06c596e5",
   "metadata": {},
   "outputs": [
    {
     "name": "stdout",
     "output_type": "stream",
     "text": [
      "2021-07-12 16:34:50.196877\n",
      "2021-07-13 16:34:50.196877\n",
      "2021-07-14 16:34:50.196877\n",
      "2021-07-15 16:34:50.196877\n",
      "2021-07-16 16:34:50.196877\n"
     ]
    }
   ],
   "source": [
    "## 4. Write a Python program to print next 7 days (week) starting from today\n",
    "\n",
    "import datetime\n",
    "base = datetime.datetime.today()\n",
    "for x in range(0, 5):\n",
    "      print(base + datetime.timedelta(days=x))"
   ]
  },
  {
   "cell_type": "code",
   "execution_count": null,
   "id": "a5eee16d",
   "metadata": {},
   "outputs": [],
   "source": []
  }
 ],
 "metadata": {
  "kernelspec": {
   "display_name": "Python 3 (ipykernel)",
   "language": "python",
   "name": "python3"
  },
  "language_info": {
   "codemirror_mode": {
    "name": "ipython",
    "version": 3
   },
   "file_extension": ".py",
   "mimetype": "text/x-python",
   "name": "python",
   "nbconvert_exporter": "python",
   "pygments_lexer": "ipython3",
   "version": "3.9.5"
  }
 },
 "nbformat": 4,
 "nbformat_minor": 5
}
