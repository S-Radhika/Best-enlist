{
 "cells": [
  {
   "cell_type": "code",
   "execution_count": 2,
   "id": "e2a8fb8f",
   "metadata": {},
   "outputs": [
    {
     "name": "stdout",
     "output_type": "stream",
     "text": [
      "0 One\n",
      "1 Two\n",
      "2 Three\n",
      "3 Four\n",
      "4 Five\n",
      "5 Six\n",
      "6 Seven\n",
      "7 Eight\n",
      "8 Nine\n",
      "9 Ten\n"
     ]
    }
   ],
   "source": [
    "# 1.Enumerate a python list and try to print the counter with the list value\n",
    "\n",
    "List1 = ['One', 'Two', 'Three','Four','Five','Six','Seven','Eight','Nine','Ten']\n",
    "for count, item in enumerate(List1):\n",
    "  print(count, item)"
   ]
  },
  {
   "cell_type": "code",
   "execution_count": 3,
   "id": "bd1fa4de",
   "metadata": {},
   "outputs": [
    {
     "name": "stdout",
     "output_type": "stream",
     "text": [
      "0 One\n",
      "1 Two\n",
      "2 Three\n",
      "3 Four\n",
      "4 Five\n",
      "5 Six\n",
      "6 Seven\n",
      "7 Eight\n",
      "8 Nine\n",
      "9 Ten\n"
     ]
    }
   ],
   "source": [
    "# 2.Enumerate a python tuple and try to print the counter with the tuple value\n",
    "\n",
    "Tuple1 = (\"One\", \"Two\", \"Three\", \"Four\", \"Five\",\"Six\", \"Seven\", \"Eight\", \"Nine\", \"Ten\")\n",
    "for count,item in enumerate(Tuple1):\n",
    "  print(count,item)"
   ]
  },
  {
   "cell_type": "code",
   "execution_count": null,
   "id": "d6c3e8fb",
   "metadata": {},
   "outputs": [],
   "source": []
  }
 ],
 "metadata": {
  "kernelspec": {
   "display_name": "Python 3 (ipykernel)",
   "language": "python",
   "name": "python3"
  },
  "language_info": {
   "codemirror_mode": {
    "name": "ipython",
    "version": 3
   },
   "file_extension": ".py",
   "mimetype": "text/x-python",
   "name": "python",
   "nbconvert_exporter": "python",
   "pygments_lexer": "ipython3",
   "version": "3.9.5"
  }
 },
 "nbformat": 4,
 "nbformat_minor": 5
}
