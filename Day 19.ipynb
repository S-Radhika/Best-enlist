{
 "cells": [
  {
   "cell_type": "code",
   "execution_count": 3,
   "id": "6ddda162",
   "metadata": {},
   "outputs": [
    {
     "data": {
      "text/html": [
       "<div>\n",
       "<style scoped>\n",
       "    .dataframe tbody tr th:only-of-type {\n",
       "        vertical-align: middle;\n",
       "    }\n",
       "\n",
       "    .dataframe tbody tr th {\n",
       "        vertical-align: top;\n",
       "    }\n",
       "\n",
       "    .dataframe thead th {\n",
       "        text-align: right;\n",
       "    }\n",
       "</style>\n",
       "<table border=\"1\" class=\"dataframe\">\n",
       "  <thead>\n",
       "    <tr style=\"text-align: right;\">\n",
       "      <th></th>\n",
       "      <th>ROLL no</th>\n",
       "      <th>NAME</th>\n",
       "      <th>DEPARTMENT</th>\n",
       "      <th>CGPA</th>\n",
       "    </tr>\n",
       "  </thead>\n",
       "  <tbody>\n",
       "    <tr>\n",
       "      <th>0</th>\n",
       "      <td>23</td>\n",
       "      <td>Damon</td>\n",
       "      <td>ECE</td>\n",
       "      <td>8.5</td>\n",
       "    </tr>\n",
       "    <tr>\n",
       "      <th>1</th>\n",
       "      <td>45</td>\n",
       "      <td>Klaus</td>\n",
       "      <td>Mech</td>\n",
       "      <td>8.6</td>\n",
       "    </tr>\n",
       "    <tr>\n",
       "      <th>2</th>\n",
       "      <td>48</td>\n",
       "      <td>Elena</td>\n",
       "      <td>CSE</td>\n",
       "      <td>8.7</td>\n",
       "    </tr>\n",
       "    <tr>\n",
       "      <th>3</th>\n",
       "      <td>50</td>\n",
       "      <td>Bonnie</td>\n",
       "      <td>IT</td>\n",
       "      <td>8.4</td>\n",
       "    </tr>\n",
       "    <tr>\n",
       "      <th>4</th>\n",
       "      <td>53</td>\n",
       "      <td>Stefan</td>\n",
       "      <td>EEE</td>\n",
       "      <td>8.3</td>\n",
       "    </tr>\n",
       "    <tr>\n",
       "      <th>5</th>\n",
       "      <td>51</td>\n",
       "      <td>Jeremy</td>\n",
       "      <td>Civil</td>\n",
       "      <td>8.0</td>\n",
       "    </tr>\n",
       "  </tbody>\n",
       "</table>\n",
       "</div>"
      ],
      "text/plain": [
       "   ROLL no    NAME DEPARTMENT  CGPA\n",
       "0       23   Damon        ECE   8.5\n",
       "1       45   Klaus       Mech   8.6\n",
       "2       48   Elena        CSE   8.7\n",
       "3       50  Bonnie         IT   8.4\n",
       "4       53  Stefan        EEE   8.3\n",
       "5       51  Jeremy      Civil   8.0"
      ]
     },
     "execution_count": 3,
     "metadata": {},
     "output_type": "execute_result"
    }
   ],
   "source": [
    "import pandas as pd\n",
    "pd.read_excel('Student details.xlsx')"
   ]
  },
  {
   "cell_type": "code",
   "execution_count": 1,
   "id": "76677a72",
   "metadata": {},
   "outputs": [
    {
     "name": "stdout",
     "output_type": "stream",
     "text": [
      "<mysql.connector.connection_cext.CMySQLConnection object at 0x0000019C99ED58B0>\n"
     ]
    }
   ],
   "source": [
    "import mysql.connector\n",
    "\n",
    "mydb = mysql.connector.connect(\n",
    "  host=\"localhost\",\n",
    " user=\"root\",\n",
    "  password=\"shinchan\",\n",
    ")\n",
    "\n",
    "mycursor = mydb.cursor()\n",
    "print(mydb)"
   ]
  },
  {
   "cell_type": "code",
   "execution_count": 5,
   "id": "f93f899b",
   "metadata": {},
   "outputs": [],
   "source": [
    "dbse = mydb.cursor()\n",
    "\n",
    "dbse.execute(\"CREATE DATABASE Students_managementSystem\")"
   ]
  },
  {
   "cell_type": "code",
   "execution_count": 7,
   "id": "52208712",
   "metadata": {},
   "outputs": [],
   "source": [
    "mydb = mysql.connector.connect(\n",
    "  host=\"localhost\",\n",
    " user=\"root\",\n",
    "  password=\"shinchan\",\n",
    "  database=\"Students_managementSystem\"\n",
    ")\n",
    "dbse = mydb.cursor()\n",
    "\n",
    "dbse.execute(\"CREATE TABLE student(ROLL_no INT(10),NAME VARCHAR(10), DEPARTMENT VARCHAR(25), CGPA INT(35))\")"
   ]
  },
  {
   "cell_type": "code",
   "execution_count": 8,
   "id": "24976010",
   "metadata": {},
   "outputs": [
    {
     "name": "stdout",
     "output_type": "stream",
     "text": [
      "('student',)\n"
     ]
    }
   ],
   "source": [
    "dbse = mydb.cursor()\n",
    "\n",
    "dbse.execute(\"SHOW TABLES\")\n",
    "\n",
    "for value in dbse:\n",
    "  print(value)"
   ]
  },
  {
   "cell_type": "code",
   "execution_count": 9,
   "id": "ed69d337",
   "metadata": {},
   "outputs": [],
   "source": [
    "cur = mydb.cursor()\n",
    "cur.execute('SELECT * FROM student')\n",
    "for row in cur:\n",
    "    print(row)"
   ]
  },
  {
   "cell_type": "code",
   "execution_count": 10,
   "id": "1c6b0a8f",
   "metadata": {},
   "outputs": [],
   "source": [
    "import pandas as pd\n",
    "\n",
    "df = pd.read_excel('Student details.xlsx')"
   ]
  },
  {
   "cell_type": "code",
   "execution_count": 15,
   "id": "71a5b969",
   "metadata": {},
   "outputs": [
    {
     "data": {
      "text/plain": [
       "<xlrd.book.Book at 0x19c99f6be50>"
      ]
     },
     "execution_count": 15,
     "metadata": {},
     "output_type": "execute_result"
    }
   ],
   "source": [
    "import xlrd\n",
    "import MySQLdb\n",
    "xl_sheet = xlrd.open_workbook(\"Student-details.xls\")\n",
    "xl_sheet"
   ]
  },
  {
   "cell_type": "code",
   "execution_count": 16,
   "id": "0de54b5e",
   "metadata": {},
   "outputs": [
    {
     "data": {
      "text/plain": [
       "['Sheet1']"
      ]
     },
     "execution_count": 16,
     "metadata": {},
     "output_type": "execute_result"
    }
   ],
   "source": [
    "sheet_name =xl_sheet.sheet_names()\n",
    "sheet_name"
   ]
  },
  {
   "cell_type": "code",
   "execution_count": 17,
   "id": "01262ded",
   "metadata": {},
   "outputs": [],
   "source": [
    "\n",
    "mydb = mysql.connector.connect(\n",
    "  host=\"localhost\",\n",
    " user=\"root\",\n",
    "  password=\"shinchan\",\n",
    "  database=\"Students_managementSystem\"\n",
    ")\n",
    "\n",
    "cur = mydb.cursor()\n",
    "for s in range(0,1):\n",
    "    sheet=xl_sheet.sheet_by_index(s)\n",
    "    sql= \"INSERT INTO student(ROLL_no,NAME,DEPARTMENT,CGPA ) VALUES(%s,%s,%s,%s)\"\n",
    "    for r in range(1,sheet.nrows):\n",
    "        ROLL_no =sheet.cell(r,0).value\n",
    "        NAME =sheet.cell(r,1).value\n",
    "        DEPARTMENT =sheet.cell(r,2).value\n",
    "        CGPA=sheet.cell(r,3).value\n",
    "        \n",
    "    \n",
    "        values =(ROLL_no,NAME,DEPARTMENT,CGPA )\n",
    "        \n",
    "        cur.execute(sql,values)\n",
    "mydb.commit()"
   ]
  },
  {
   "cell_type": "code",
   "execution_count": 18,
   "id": "f330ae45",
   "metadata": {},
   "outputs": [
    {
     "name": "stdout",
     "output_type": "stream",
     "text": [
      "(23, 'Damon', 'ECE', 9)\n",
      "(45, 'Klaus', 'Mech', 9)\n",
      "(48, 'Elena', 'CSE', 9)\n",
      "(50, 'Bonnie', 'IT', 8)\n",
      "(53, 'Stefan', 'EEE', 8)\n",
      "(51, 'Jeremy', 'Civil', 8)\n"
     ]
    }
   ],
   "source": [
    "mycursor = mydb.cursor()\n",
    "\n",
    "mycursor.execute(\"SELECT * FROM student\")\n",
    "\n",
    "myresult = mycursor.fetchall()\n",
    "\n",
    "for x in myresult:\n",
    "    print(x)"
   ]
  },
  {
   "cell_type": "code",
   "execution_count": 21,
   "id": "554d2296",
   "metadata": {},
   "outputs": [
    {
     "name": "stdout",
     "output_type": "stream",
     "text": [
      "('Damon',)\n",
      "('Klaus',)\n",
      "('Elena',)\n"
     ]
    }
   ],
   "source": [
    "mycursor = mydb.cursor()\n",
    "\n",
    "mycursor.execute(\"SELECT NAME FROM student WHERE CGPA >8\")\n",
    "\n",
    "myresult = mycursor.fetchall()\n",
    "\n",
    "for x in myresult:\n",
    "    print(x)"
   ]
  },
  {
   "cell_type": "code",
   "execution_count": null,
   "id": "f2f24728",
   "metadata": {},
   "outputs": [],
   "source": []
  }
 ],
 "metadata": {
  "kernelspec": {
   "display_name": "Python 3 (ipykernel)",
   "language": "python",
   "name": "python3"
  },
  "language_info": {
   "codemirror_mode": {
    "name": "ipython",
    "version": 3
   },
   "file_extension": ".py",
   "mimetype": "text/x-python",
   "name": "python",
   "nbconvert_exporter": "python",
   "pygments_lexer": "ipython3",
   "version": "3.9.5"
  }
 },
 "nbformat": 4,
 "nbformat_minor": 5
}
