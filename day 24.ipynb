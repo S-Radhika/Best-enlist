{
 "cells": [
  {
   "cell_type": "code",
   "execution_count": 16,
   "id": "b8c30cf7",
   "metadata": {},
   "outputs": [],
   "source": [
    "import json"
   ]
  },
  {
   "cell_type": "code",
   "execution_count": 2,
   "id": "f9792aa4",
   "metadata": {},
   "outputs": [],
   "source": [
    "json_data=[\n",
    "     {'Employee':\"Akash\",'salary':500000,'id':607},\n",
    "     {'Employee':\"Roger\",'salary':75000, 'id':608},\n",
    "     {'Employee':\"Aldrin\",'salary':45000,'id':607},\n",
    "     {'Employee':\"Yazh\",'salary':75000,'id':613},\n",
    "     {'Employee':\"Flora\",'salary':80000,'id':606},\n",
    "     {'Employee':\"Raina\",'salary':54000,'id':612}\n",
    "    \n",
    "]"
   ]
  },
  {
   "cell_type": "code",
   "execution_count": 3,
   "id": "6e1e6033",
   "metadata": {},
   "outputs": [],
   "source": [
    "json_string =json.dumps(json_data)"
   ]
  },
  {
   "cell_type": "code",
   "execution_count": 4,
   "id": "d021da4b",
   "metadata": {},
   "outputs": [],
   "source": [
    "import mysql.connector"
   ]
  },
  {
   "cell_type": "code",
   "execution_count": 7,
   "id": "5683031f",
   "metadata": {},
   "outputs": [],
   "source": [
    "mydb = mysql.connector.connect(\n",
    "  host=\"localhost\",\n",
    "  user=\"root\",\n",
    "  password=\"shinchan\"\n",
    ")"
   ]
  },
  {
   "cell_type": "code",
   "execution_count": 8,
   "id": "6bcd1ea6",
   "metadata": {},
   "outputs": [],
   "source": [
    "dbse = mydb.cursor()\n",
    "\n",
    "dbse.execute(\"CREATE DATABASE employee_JSONRECORDS\")"
   ]
  },
  {
   "cell_type": "code",
   "execution_count": 9,
   "id": "1e505cae",
   "metadata": {},
   "outputs": [],
   "source": [
    "\n",
    "mydb = mysql.connector.connect(\n",
    "  host=\"localhost\",\n",
    " user=\"root\",\n",
    "  password=\"shinchan\",\n",
    "  database=\"employee_JSONRECORDS\"\n",
    ")\n",
    "dbse = mydb.cursor()\n",
    "\n",
    "dbse.execute(\"CREATE TABLE Employee_dtl (Employee VARCHAR(255),salary INT,id INT)\")"
   ]
  },
  {
   "cell_type": "code",
   "execution_count": 15,
   "id": "03dff080",
   "metadata": {},
   "outputs": [
    {
     "ename": "SyntaxError",
     "evalue": "invalid syntax (Temp/ipykernel_10848/2544377325.py, line 3)",
     "output_type": "error",
     "traceback": [
      "\u001b[1;36m  File \u001b[1;32m\"C:\\Users\\radhi\\AppData\\Local\\Temp/ipykernel_10848/2544377325.py\"\u001b[1;36m, line \u001b[1;32m3\u001b[0m\n\u001b[1;33m    value=(for i in res: res[i])\u001b[0m\n\u001b[1;37m           ^\u001b[0m\n\u001b[1;31mSyntaxError\u001b[0m\u001b[1;31m:\u001b[0m invalid syntax\n"
     ]
    }
   ],
   "source": [
    "dbse = mydb.cursor()\n",
    "sql = \"INSERT INTO Employee_dtl(Employee,salary,id) VALUES (%s,%S,%S)\"\n",
    "value=(for i in res: res[i])\n",
    "                         \n",
    "dbse.execute( sql, value)\n",
    "\n",
    "print(\"Sucessfully inserted json files to DB\")"
   ]
  },
  {
   "cell_type": "code",
   "execution_count": null,
   "id": "22129e06",
   "metadata": {},
   "outputs": [],
   "source": []
  }
 ],
 "metadata": {
  "kernelspec": {
   "display_name": "Python 3 (ipykernel)",
   "language": "python",
   "name": "python3"
  },
  "language_info": {
   "codemirror_mode": {
    "name": "ipython",
    "version": 3
   },
   "file_extension": ".py",
   "mimetype": "text/x-python",
   "name": "python",
   "nbconvert_exporter": "python",
   "pygments_lexer": "ipython3",
   "version": "3.9.5"
  }
 },
 "nbformat": 4,
 "nbformat_minor": 5
}
